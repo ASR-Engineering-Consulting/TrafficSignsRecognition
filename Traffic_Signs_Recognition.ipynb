{
 "cells": [
  {
   "cell_type": "markdown",
   "metadata": {},
   "source": [
    "# Self-Driving Car Engineer Nanodegree\n",
    "\n",
    "## Deep Learning\n",
    "\n",
    "## Project: Build a Traffic Sign Recognition Classifier\n",
    "\n",
    "In this notebook, a template is provided for you to implement your functionality in stages which is required to successfully complete this project. If additional code is required that cannot be included in the notebook, be sure that the Python code is successfully imported and included in your submission, if necessary. Sections that begin with **'Implementation'** in the header indicate where you should begin your implementation for your project. Note that some sections of implementation are optional, and will be marked with **'Optional'** in the header.\n",
    "\n",
    "In addition to implementing code, there will be questions that you must answer which relate to the project and your implementation. Each section where you will answer a question is preceded by a **'Question'** header. Carefully read each question and provide thorough answers in the following text boxes that begin with **'Answer:'**. Your project submission will be evaluated based on your answers to each of the questions and the implementation you provide.\n",
    "\n",
    ">**Note:** Code and Markdown cells can be executed using the **Shift + Enter** keyboard shortcut. In addition, Markdown cells can be edited by typically double-clicking the cell to enter edit mode."
   ]
  },
  {
   "cell_type": "markdown",
   "metadata": {},
   "source": [
    "---\n",
    "\n",
    "## Step 1: Dataset Exploration\n",
    "\n",
    "Visualize the German Traffic Signs Dataset. This is open ended, some suggestions include: plotting traffic signs images, plotting the count of each sign, etc. Be creative!\n",
    "\n",
    "\n",
    "The pickled data is a dictionary with 4 key/value pairs:\n",
    "\n",
    "- features -> the images pixel values, (width, height, channels)\n",
    "- labels -> the label of the traffic sign\n",
    "- sizes -> the original width and height of the image, (width, height)\n",
    "- coords -> coordinates of a bounding box around the sign in the image, (x1, y1, x2, y2). Based the original image (not the resized version)."
   ]
  },
  {
   "cell_type": "code",
   "execution_count": null,
   "metadata": {
    "collapsed": false
   },
   "outputs": [],
   "source": []
  },
  {
   "cell_type": "code",
   "execution_count": 1,
   "metadata": {
    "collapsed": false
   },
   "outputs": [
    {
     "name": "stdout",
     "output_type": "stream",
     "text": [
      "Data and modules loaded.\n"
     ]
    }
   ],
   "source": [
    "%matplotlib inline\n",
    "\n",
    "# Load the modules\n",
    "import pickle\n",
    "import math\n",
    "\n",
    "import numpy as np\n",
    "import tensorflow as tf\n",
    "from tqdm import tqdm\n",
    "import matplotlib.pyplot as plt\n",
    "\n",
    "# Reload the data\n",
    "#pickle_file = 'notMNIST.pickle'\n",
    "#with open(pickle_file, 'rb') as f:\n",
    "#  pickle_data = pickle.load(f)\n",
    "#  train_features = pickle_data['train_dataset']\n",
    "#  train_labels = pickle_data['train_labels']\n",
    "#  valid_features = pickle_data['valid_dataset']\n",
    "#  valid_labels = pickle_data['valid_labels']\n",
    "#  test_features = pickle_data['test_dataset']\n",
    "#  test_labels = pickle_data['test_labels']\n",
    "#  del pickle_data  # Free up memory\n",
    "\n",
    "\n",
    "print('Data and modules loaded.')"
   ]
  },
  {
   "cell_type": "code",
   "execution_count": 2,
   "metadata": {
    "collapsed": false
   },
   "outputs": [],
   "source": [
    "# Load pickled data\n",
    "#import pickle\n",
    "\n",
    "training_file = './train.p'\n",
    "testing_file = './test.p'\n",
    "\n",
    "with open(training_file, mode='rb') as f:\n",
    "    train = pickle.load(f)\n",
    "with open(testing_file, mode='rb') as f:\n",
    "    test = pickle.load(f)\n",
    "    \n",
    "train_features, train_labels = train['features'], train['labels']\n",
    "test_features, test_labels = test['features'], test['labels']"
   ]
  },
  {
   "cell_type": "code",
   "execution_count": 3,
   "metadata": {
    "collapsed": false
   },
   "outputs": [
    {
     "name": "stdout",
     "output_type": "stream",
     "text": [
      "Number of training examples = 39209\n",
      "Number of training labels = 39209\n",
      "Number of testing examples = 12630\n",
      "Image data shape = 32x32\n",
      "Number of classes = 43\n"
     ]
    }
   ],
   "source": [
    "n_train = len(train_features)\n",
    "\n",
    "n_test = len(test_features)\n",
    "\n",
    "# TODO: what's the shape of an image?\n",
    "image_shape = str(len(train_features[0])) + \"x\" + str(len(train_features[0]))\n",
    "\n",
    "n_classes = 43\n",
    "\n",
    "print(\"Number of training examples =\", n_train)\n",
    "print(\"Number of training labels =\", len(train_labels))\n",
    "print(\"Number of testing examples =\", n_test)\n",
    "print(\"Image data shape =\", image_shape)\n",
    "print(\"Number of classes =\", n_classes)"
   ]
  },
  {
   "cell_type": "code",
   "execution_count": 4,
   "metadata": {
    "collapsed": true
   },
   "outputs": [],
   "source": [
    "### Data exploration visualization goes here.\n",
    "### Feel free to use as many code cells as needed."
   ]
  },
  {
   "cell_type": "markdown",
   "metadata": {},
   "source": [
    "----\n",
    "\n",
    "## Step 2: Design and Test a Model Architecture\n",
    "\n",
    "Design and implement a deep learning model that learns to recognize traffic signs. Train and test your model on the [German Traffic Sign Dataset](http://benchmark.ini.rub.de/?section=gtsrb&subsection=dataset).\n",
    "\n",
    "There are various aspects to consider when thinking about this problem:\n",
    "\n",
    "- Your model can be derived from a deep feedforward net or a deep convolutional network.\n",
    "- Play around preprocessing techniques (normalization, rgb to grayscale, etc)\n",
    "- Number of examples per label (some have more than others).\n",
    "- Generate fake data.\n",
    "\n",
    "Here is an example of a [published baseline model on this problem](http://yann.lecun.com/exdb/publis/pdf/sermanet-ijcnn-11.pdf). It's not required to be familiar with the approach used in the paper but, it's good practice to try to read papers like these."
   ]
  },
  {
   "cell_type": "markdown",
   "metadata": {},
   "source": [
    "### Implementation\n",
    "\n",
    "Use the code cell (or multiple code cells, if necessary) to implement the first step of your project. Once you have completed your implementation and are satisfied with the results, be sure to thoroughly answer the questions that follow."
   ]
  },
  {
   "cell_type": "code",
   "execution_count": 5,
   "metadata": {
    "collapsed": false
   },
   "outputs": [
    {
     "name": "stdout",
     "output_type": "stream",
     "text": [
      "Data normalized\n",
      "Labels One-Hot Encoded\n"
     ]
    }
   ],
   "source": [
    "from sklearn.preprocessing import LabelBinarizer\n",
    "import numpy as np\n",
    "import tensorflow as tf\n",
    "\n",
    "def normalize(image_data):\n",
    "    \"\"\"\n",
    "    Normalize the image data with Min-Max scaling to a range of [0.1, 0.9]\n",
    "    :param image_data: The image data to be normalized\n",
    "    :return: Normalized image data\n",
    "    \"\"\"\n",
    "    return (image_data * 0.8) / 255. + 0.1\n",
    "\n",
    "train_features = normalize(train_features)\n",
    "print('Data normalized')\n",
    "\n",
    "# Turn labels into numbers and apply One-Hot Encoding\n",
    "encoder = LabelBinarizer()\n",
    "encoder.fit(train_labels)\n",
    "train_labels = encoder.transform(train_labels)\n",
    "test_labels = encoder.transform(test_labels)\n",
    "\n",
    "# Change to float32, so it can be multiplied against the features in TensorFlow, which are float32\n",
    "train_labels = train_labels.astype(np.float32)\n",
    "train_features = train_features.astype(np.float32)\n",
    "test_labels = test_labels.astype(np.float32)\n",
    "\n",
    "print('Labels One-Hot Encoded')"
   ]
  },
  {
   "cell_type": "code",
   "execution_count": 6,
   "metadata": {
    "collapsed": false
   },
   "outputs": [
    {
     "name": "stdout",
     "output_type": "stream",
     "text": [
      "Randomized\n"
     ]
    }
   ],
   "source": [
    "from sklearn.model_selection import train_test_split\n",
    "\n",
    "# Get randomized datasets for training and validation\n",
    "train_features, valid_features, train_labels, valid_labels = train_test_split(\n",
    "    train_features,\n",
    "    train_labels,\n",
    "    test_size=0.1,\n",
    "    random_state=832289)\n",
    "\n",
    "print('Randomized')"
   ]
  },
  {
   "cell_type": "markdown",
   "metadata": {},
   "source": [
    "### Question 1 \n",
    "\n",
    "_Describe the techniques used to preprocess the data._"
   ]
  },
  {
   "cell_type": "markdown",
   "metadata": {},
   "source": [
    "**Answer:**"
   ]
  },
  {
   "cell_type": "code",
   "execution_count": 7,
   "metadata": {
    "collapsed": false
   },
   "outputs": [],
   "source": [
    "### Generate data additional (if you want to!)\n",
    "### and split the data into training/validation/testing sets here.\n",
    "### Feel free to use as many code cells as needed.\n"
   ]
  },
  {
   "cell_type": "markdown",
   "metadata": {},
   "source": [
    "### Question 2\n",
    "\n",
    "_Describe how you set up the training, validation and testing data for your model. If you generated additional data, why?_"
   ]
  },
  {
   "cell_type": "markdown",
   "metadata": {},
   "source": [
    "**Answer:**"
   ]
  },
  {
   "cell_type": "code",
   "execution_count": 8,
   "metadata": {
    "collapsed": false
   },
   "outputs": [
    {
     "name": "stdout",
     "output_type": "stream",
     "text": [
      "Tests Passed!\n"
     ]
    }
   ],
   "source": [
    "features_count = 3072\n",
    "labels_count = 43\n",
    "n_hidden_layer = 512 # layer number of features\n",
    "n_hidden_layer_2 = 512 # layer number of features\n",
    "\n",
    "k_output = 64\n",
    "\n",
    "features = tf.placeholder(tf.float32, shape=[None, 32, 32, 3])\n",
    "labels = tf.placeholder(tf.float32)\n",
    "\n",
    "#features_flat = tf.reshape(features, [-1, features_count])\n",
    "\n",
    "#weights = tf.Variable(tf.random_normal([features_count, labels_count]))\n",
    "#biases = tf.Variable(tf.zeros(labels_count))\n",
    "\n",
    "with tf.variable_scope(\"foo\", reuse=None):\n",
    "    weights_out = tf.get_variable(\"weights_outss\", shape=[n_hidden_layer_2, labels_count],\n",
    "           initializer=tf.contrib.layers.xavier_initializer())\n",
    "    weights_first_layer = tf.get_variable(\"weights_first_layerss\", shape=[32 * 32 * k_output, n_hidden_layer],\n",
    "           initializer=tf.contrib.layers.xavier_initializer())\n",
    "    weights_second_layer = tf.get_variable(\"weights_second_layerss\", shape=[n_hidden_layer, n_hidden_layer_2],\n",
    "           initializer=tf.contrib.layers.xavier_initializer())\n",
    "\n",
    "    bias_out = tf.get_variable(\"bias_outss\", shape=[labels_count],\n",
    "           initializer=tf.contrib.layers.xavier_initializer())\n",
    "    bias_first_layer = tf.get_variable(\"bias_first_layerss\", shape=[n_hidden_layer],\n",
    "           initializer=tf.contrib.layers.xavier_initializer())\n",
    "    bias_second_layer = tf.get_variable(\"bias_second_layerss\", shape=[n_hidden_layer_2],\n",
    "           initializer=tf.contrib.layers.xavier_initializer())\n",
    "    \n",
    "    weights_conv = tf.get_variable(\"weights_conv\", shape=[3, 3, 3, k_output],\n",
    "           initializer=tf.contrib.layers.xavier_initializer())\n",
    "    bias_conv = tf.get_variable(\"bias_conv\", shape=[k_output],\n",
    "           initializer=tf.contrib.layers.xavier_initializer())\n",
    "    \n",
    "#weights = tf.Variable(tf.truncated_normal((features_count, labels_count)))\n",
    "#biases = tf.Variable(tf.zeros(labels_count))\n",
    "\n",
    "\n",
    "weights = {\n",
    "    'weight_conv': weights_conv,\n",
    "    'hidden_layer': weights_first_layer,\n",
    "    'hidden_layer_2': weights_second_layer,\n",
    "    'out': weights_out\n",
    "}\n",
    "biases = {\n",
    "    'bias_conv': bias_conv,\n",
    "    'hidden_layer': bias_first_layer,\n",
    "    'hidden_layer_2': bias_second_layer,\n",
    "    'out': bias_out\n",
    "}\n",
    "\n",
    "### DON'T MODIFY ANYTHING BELOW ###\n",
    "#Test Cases\n",
    "from tensorflow.python.ops.variables import Variable\n",
    "\n",
    "\n",
    "# Feed dicts for training, validation, and test session\n",
    "train_feed_dict = {features: train_features, labels: train_labels}\n",
    "valid_feed_dict = {features: valid_features, labels: valid_labels}\n",
    "#test_feed_dict = {features: test_features, labels: test_labels}\n",
    "\n",
    "conv_layer = tf.nn.conv2d(features, weights['weight_conv'], strides=[1, 1, 1, 1], padding='SAME')\n",
    "# Add bias\n",
    "conv_layer = tf.nn.bias_add(conv_layer, biases['bias_conv'])\n",
    "# Apply activation function\n",
    "conv_layer = tf.nn.relu(conv_layer)\n",
    "\n",
    "#conv_layer = tf.reshape(conv_layer, [-1, 32*32*3*k_output])\n",
    "\n",
    "layer_1 = tf.add(tf.matmul(tf.contrib.layers.flatten(conv_layer), weights['hidden_layer']), biases['hidden_layer'])\n",
    "layer_1 = tf.nn.relu(layer_1)\n",
    "layer_1 = tf.add(tf.matmul(layer_1, weights['hidden_layer_2']), biases['hidden_layer_2'])\n",
    "layer_1 = tf.nn.relu(layer_1)\n",
    "logits = tf.matmul(layer_1, weights['out']) + biases['out']\n",
    "\n",
    "prediction = tf.nn.softmax(logits)\n",
    "cross_entropy = -tf.reduce_sum(labels * tf.log(prediction + 1e-6), reduction_indices=1)\n",
    "\n",
    "#cross_entropy = tf.nn.softmax_cross_entropy_with_logits(logits, labels)\n",
    "\n",
    "# Training loss\n",
    "loss = tf.reduce_mean(cross_entropy)\n",
    "\n",
    "#Gradient\n",
    "optimizer = tf.train.AdamOptimizer(0.001).minimize(loss)\n",
    "\n",
    "# Create an operation that initializes all variables\n",
    "init = tf.global_variables_initializer()\n",
    "\n",
    "# Test Cases\n",
    "#config = tf.ConfigProto()\n",
    "#config.gpu_options.per_process_gpu_memory_fraction = 0.4\n",
    "#config.gpu_options.allow_growth = True\n",
    "#config.gpu_options.allocator_type = 'BFC'\n",
    "#with tf.Session(config=config) as session:\n",
    "#    session.run(init)\n",
    "#    session.run(loss, feed_dict=train_feed_dict)\n",
    "#    session.run(loss, feed_dict=valid_feed_dict)\n",
    "#    biases_data = session.run(biases)\n",
    "\n",
    "print('Tests Passed!')"
   ]
  },
  {
   "cell_type": "code",
   "execution_count": 9,
   "metadata": {
    "collapsed": false
   },
   "outputs": [
    {
     "name": "stdout",
     "output_type": "stream",
     "text": [
      "Accuracy function created!\n"
     ]
    }
   ],
   "source": [
    "# Determine if the predictions are correct\n",
    "is_correct_prediction = tf.equal(tf.argmax(prediction, 1), tf.argmax(labels, 1))\n",
    "# Calculate the accuracy of the predictions\n",
    "accuracy = tf.reduce_mean(tf.cast(is_correct_prediction, tf.float32))\n",
    "\n",
    "print('Accuracy function created!')"
   ]
  },
  {
   "cell_type": "markdown",
   "metadata": {},
   "source": [
    "### Question 3\n",
    "\n",
    "_What does your final architecture look like? (Type of model, layers, sizes, connectivity, etc.)  For reference on how to build a deep neural network using TensorFlow, see [Deep Neural Network in TensorFlow\n",
    "](https://classroom.udacity.com/nanodegrees/nd013/parts/fbf77062-5703-404e-b60c-95b78b2f3f9e/modules/6df7ae49-c61c-4bb2-a23e-6527e69209ec/lessons/b516a270-8600-4f93-a0a3-20dfeabe5da6/concepts/83a3a2a2-a9bd-4b7b-95b0-eb924ab14432) from the classroom._\n"
   ]
  },
  {
   "cell_type": "markdown",
   "metadata": {},
   "source": [
    "**Answer:**"
   ]
  },
  {
   "cell_type": "code",
   "execution_count": 10,
   "metadata": {
    "collapsed": false
   },
   "outputs": [
    {
     "name": "stderr",
     "output_type": "stream",
     "text": [
      "Epoch  1/50: 100%|██████████| 177/177 [00:18<00:00,  9.52batches/s]\n",
      "Epoch  2/50: 100%|██████████| 177/177 [00:17<00:00, 11.01batches/s]\n",
      "Epoch  3/50: 100%|██████████| 177/177 [00:17<00:00, 10.97batches/s]\n",
      "Epoch  4/50: 100%|██████████| 177/177 [00:17<00:00, 10.96batches/s]\n",
      "Epoch  5/50: 100%|██████████| 177/177 [00:17<00:00, 10.95batches/s]\n",
      "Epoch  6/50: 100%|██████████| 177/177 [00:17<00:00, 10.94batches/s]\n",
      "Epoch  7/50: 100%|██████████| 177/177 [00:17<00:00, 10.94batches/s]\n",
      "Epoch  8/50: 100%|██████████| 177/177 [00:17<00:00, 10.95batches/s]\n",
      "Epoch  9/50: 100%|██████████| 177/177 [00:17<00:00, 10.94batches/s]\n",
      "Epoch 10/50: 100%|██████████| 177/177 [00:17<00:00, 10.95batches/s]\n",
      "Epoch 11/50: 100%|██████████| 177/177 [00:17<00:00, 10.98batches/s]\n",
      "Epoch 12/50: 100%|██████████| 177/177 [00:17<00:00, 10.96batches/s]\n",
      "Epoch 13/50: 100%|██████████| 177/177 [00:17<00:00, 10.96batches/s]\n",
      "Epoch 14/50: 100%|██████████| 177/177 [00:17<00:00, 10.94batches/s]\n",
      "Epoch 15/50: 100%|██████████| 177/177 [00:17<00:00, 10.96batches/s]\n",
      "Epoch 16/50: 100%|██████████| 177/177 [00:17<00:00, 10.95batches/s]\n",
      "Epoch 17/50: 100%|██████████| 177/177 [00:17<00:00, 10.96batches/s]\n",
      "Epoch 18/50: 100%|██████████| 177/177 [00:17<00:00, 10.94batches/s]\n",
      "Epoch 19/50: 100%|██████████| 177/177 [00:17<00:00, 10.97batches/s]\n",
      "Epoch 20/50: 100%|██████████| 177/177 [00:17<00:00, 10.96batches/s]\n",
      "Epoch 21/50: 100%|██████████| 177/177 [00:17<00:00, 10.95batches/s]\n",
      "Epoch 22/50: 100%|██████████| 177/177 [00:17<00:00, 10.97batches/s]\n",
      "Epoch 23/50: 100%|██████████| 177/177 [00:17<00:00, 10.96batches/s]\n",
      "Epoch 24/50: 100%|██████████| 177/177 [00:17<00:00, 10.98batches/s]\n",
      "Epoch 25/50: 100%|██████████| 177/177 [00:17<00:00, 10.96batches/s]\n",
      "Epoch 26/50: 100%|██████████| 177/177 [00:17<00:00, 10.95batches/s]\n",
      "Epoch 27/50: 100%|██████████| 177/177 [00:17<00:00, 10.96batches/s]\n",
      "Epoch 28/50: 100%|██████████| 177/177 [00:17<00:00, 10.95batches/s]\n",
      "Epoch 29/50: 100%|██████████| 177/177 [00:17<00:00, 10.94batches/s]\n",
      "Epoch 30/50: 100%|██████████| 177/177 [00:17<00:00, 10.98batches/s]\n",
      "Epoch 31/50: 100%|██████████| 177/177 [00:17<00:00, 10.96batches/s]\n",
      "Epoch 32/50: 100%|██████████| 177/177 [00:17<00:00, 10.97batches/s]\n",
      "Epoch 33/50: 100%|██████████| 177/177 [00:17<00:00, 10.97batches/s]\n",
      "Epoch 34/50: 100%|██████████| 177/177 [00:17<00:00, 10.95batches/s]\n",
      "Epoch 35/50: 100%|██████████| 177/177 [00:17<00:00, 10.92batches/s]\n",
      "Epoch 36/50: 100%|██████████| 177/177 [00:17<00:00, 10.98batches/s]\n",
      "Epoch 37/50: 100%|██████████| 177/177 [00:17<00:00, 10.95batches/s]\n",
      "Epoch 38/50: 100%|██████████| 177/177 [00:17<00:00, 10.96batches/s]\n",
      "Epoch 39/50: 100%|██████████| 177/177 [00:17<00:00, 10.95batches/s]\n",
      "Epoch 40/50: 100%|██████████| 177/177 [00:17<00:00, 10.96batches/s]\n",
      "Epoch 41/50: 100%|██████████| 177/177 [00:17<00:00, 10.96batches/s]\n",
      "Epoch 42/50: 100%|██████████| 177/177 [00:17<00:00, 10.94batches/s]\n",
      "Epoch 43/50: 100%|██████████| 177/177 [00:17<00:00, 10.93batches/s]\n",
      "Epoch 44/50: 100%|██████████| 177/177 [00:17<00:00, 10.95batches/s]\n",
      "Epoch 45/50: 100%|██████████| 177/177 [00:17<00:00, 10.94batches/s]\n",
      "Epoch 46/50: 100%|██████████| 177/177 [00:17<00:00, 10.96batches/s]\n",
      "Epoch 47/50: 100%|██████████| 177/177 [00:17<00:00, 10.95batches/s]\n",
      "Epoch 48/50: 100%|██████████| 177/177 [00:17<00:00, 10.96batches/s]\n",
      "Epoch 49/50: 100%|██████████| 177/177 [00:17<00:00, 10.96batches/s]\n",
      "Epoch 50/50: 100%|██████████| 177/177 [00:17<00:00, 10.97batches/s]\n"
     ]
    },
    {
     "data": {
      "image/png": "[encoded data removed]",
      "text/plain": [
       "<matplotlib.figure.Figure at 0x7f8fa5128b70>"
      ]
     },
     "metadata": {},
     "output_type": "display_data"
    },
    {
     "name": "stdout",
     "output_type": "stream",
     "text": [
      "Validation accuracy at 0.9892886281013489\n"
     ]
    }
   ],
   "source": [
    "import math\n",
    "from tqdm import tqdm\n",
    "import matplotlib.pyplot as plt\n",
    "\n",
    "epochs = 50\n",
    "batch_size = 200\n",
    "\n",
    "### DON'T MODIFY ANYTHING BELOW ###\n",
    "# Gradient Descent\n",
    "\n",
    "\n",
    "# The accuracy measured against the validation set\n",
    "validation_accuracy = 0.0\n",
    "\n",
    "# Measurements use for graphing loss and accuracy\n",
    "log_batch_step = batch_size\n",
    "batches = []\n",
    "loss_batch = []\n",
    "train_acc_batch = []\n",
    "valid_acc_batch = []\n",
    "\n",
    "with tf.Session() as session:\n",
    "    session.run(init)\n",
    "    batch_count = int(math.ceil(len(train_features)/batch_size))\n",
    "\n",
    "    for epoch_i in range(epochs):\n",
    "        \n",
    "        # Progress bar\n",
    "        batches_pbar = tqdm(range(batch_count), desc='Epoch {:>2}/{}'.format(epoch_i+1, epochs), unit='batches')\n",
    "        \n",
    "        # The training cycle\n",
    "        for batch_i in batches_pbar:\n",
    "            # Get a batch of training features and labels\n",
    "            batch_start = batch_i*batch_size\n",
    "            batch_features = train_features[batch_start:batch_start + batch_size]\n",
    "            batch_labels = train_labels[batch_start:batch_start + batch_size]\n",
    "\n",
    "            # Run optimizer and get loss\n",
    "            _, l = session.run(\n",
    "                [optimizer, loss],\n",
    "                feed_dict={features: batch_features, labels: batch_labels})\n",
    "\n",
    "            # Log every 50 batches\n",
    "            if not batch_i % log_batch_step:\n",
    "                # Calculate Training and Validation accuracy\n",
    "                training_accuracy = session.run(accuracy, feed_dict={features: batch_features, labels: batch_labels})\n",
    "                validation_accuracy = session.run(accuracy, feed_dict=valid_feed_dict)\n",
    "\n",
    "                # Log batches\n",
    "                previous_batch = batches[-1] if batches else 0\n",
    "                batches.append(log_batch_step + previous_batch)\n",
    "                loss_batch.append(l)\n",
    "                train_acc_batch.append(training_accuracy)\n",
    "                valid_acc_batch.append(validation_accuracy)\n",
    "\n",
    "        # Check accuracy against Validation data\n",
    "        validation_accuracy = session.run(accuracy, feed_dict=valid_feed_dict)\n",
    "\n",
    "loss_plot = plt.subplot(211)\n",
    "loss_plot.set_title('Loss')\n",
    "loss_plot.plot(batches, loss_batch, 'g')\n",
    "loss_plot.set_xlim([batches[0], batches[-1]])\n",
    "acc_plot = plt.subplot(212)\n",
    "acc_plot.set_title('Accuracy')\n",
    "acc_plot.plot(batches, train_acc_batch, 'r', label='Training Accuracy')\n",
    "acc_plot.plot(batches, valid_acc_batch, 'b', label='Validation Accuracy')\n",
    "acc_plot.set_ylim([0, 1.0])\n",
    "acc_plot.set_xlim([batches[0], batches[-1]])\n",
    "acc_plot.legend(loc=4)\n",
    "plt.tight_layout()\n",
    "plt.show()\n",
    "\n",
    "print('Validation accuracy at {}'.format(validation_accuracy))"
   ]
  },
  {
   "cell_type": "markdown",
   "metadata": {},
   "source": [
    "### Question 4\n",
    "\n",
    "_How did you train your model? (Type of optimizer, batch size, epochs, hyperparameters, etc.)_\n"
   ]
  },
  {
   "cell_type": "markdown",
   "metadata": {},
   "source": [
    "**Answer:**"
   ]
  },
  {
   "cell_type": "markdown",
   "metadata": {},
   "source": [
    "### Question 5\n",
    "\n",
    "\n",
    "_What approach did you take in coming up with a solution to this problem?_"
   ]
  },
  {
   "cell_type": "markdown",
   "metadata": {},
   "source": [
    "**Answer:**"
   ]
  },
  {
   "cell_type": "markdown",
   "metadata": {},
   "source": [
    "---\n",
    "\n",
    "## Step 3: Test a Model on New Images\n",
    "\n",
    "Take several pictures of traffic signs that you find on the web or around you (at least five), and run them through your classifier on your computer to produce example results. The classifier might not recognize some local signs but it could prove interesting nonetheless.\n",
    "\n",
    "You may find `signnames.csv` useful as it contains mappings from the class id (integer) to the actual sign name."
   ]
  },
  {
   "cell_type": "markdown",
   "metadata": {},
   "source": [
    "### Implementation\n",
    "\n",
    "Use the code cell (or multiple code cells, if necessary) to implement the first step of your project. Once you have completed your implementation and are satisfied with the results, be sure to thoroughly answer the questions that follow."
   ]
  },
  {
   "cell_type": "code",
   "execution_count": 62,
   "metadata": {
    "collapsed": false
   },
   "outputs": [
    {
     "name": "stderr",
     "output_type": "stream",
     "text": [
      "Epoch  1/10: 100%|██████████| 1425/1425 [00:07<00:00, 202.51batches/s]\n",
      "Epoch  2/10: 100%|██████████| 1425/1425 [00:09<00:00, 150.89batches/s]\n",
      "Epoch  3/10: 100%|██████████| 1425/1425 [00:07<00:00, 194.36batches/s]\n",
      "Epoch  4/10: 100%|██████████| 1425/1425 [00:09<00:00, 144.32batches/s]\n",
      "Epoch  5/10: 100%|██████████| 1425/1425 [00:06<00:00, 211.40batches/s]\n",
      "Epoch  6/10: 100%|██████████| 1425/1425 [00:06<00:00, 213.48batches/s]\n",
      "Epoch  7/10: 100%|██████████| 1425/1425 [00:06<00:00, 213.27batches/s]\n",
      "Epoch  8/10: 100%|██████████| 1425/1425 [00:07<00:00, 181.96batches/s]\n",
      "Epoch  9/10: 100%|██████████| 1425/1425 [00:06<00:00, 208.43batches/s]\n",
      "Epoch 10/10: 100%|██████████| 1425/1425 [00:06<00:00, 208.57batches/s]\n"
     ]
    },
    {
     "name": "stdout",
     "output_type": "stream",
     "text": [
      "Nice Job! Test Accuracy is 0.9386000037193298\n"
     ]
    }
   ],
   "source": [
    "### Load the images and plot them here.\n",
    "### Feel free to use as many code cells as needed.\n",
    "\n",
    "# ToDo: Set the epochs, batch_size, and learning_rate with the best parameters from problem 3\n",
    "# epochs = \n",
    "# batch_size = \n",
    "# learning_rate = \n",
    "\n",
    "\n",
    "\n",
    "### DON'T MODIFY ANYTHING BELOW ###\n",
    "# The accuracy measured against the test set\n",
    "test_accuracy = 0.0\n",
    "\n",
    "with tf.Session() as session:\n",
    "    \n",
    "    session.run(init)\n",
    "    batch_count = int(math.ceil(len(train_features)/batch_size))\n",
    "\n",
    "    for epoch_i in range(epochs):\n",
    "        \n",
    "        # Progress bar\n",
    "        batches_pbar = tqdm(range(batch_count), desc='Epoch {:>2}/{}'.format(epoch_i+1, epochs), unit='batches')\n",
    "        \n",
    "        # The training cycle\n",
    "        for batch_i in batches_pbar:\n",
    "            # Get a batch of training features and labels\n",
    "            batch_start = batch_i*batch_size\n",
    "            batch_features = train_features[batch_start:batch_start + batch_size]\n",
    "            batch_labels = train_labels[batch_start:batch_start + batch_size]\n",
    "\n",
    "            # Run optimizer\n",
    "            _ = session.run(optimizer, feed_dict={features: batch_features, labels: batch_labels})\n",
    "\n",
    "        # Check accuracy against Test data\n",
    "        test_accuracy = session.run(accuracy, feed_dict=test_feed_dict)\n",
    "\n",
    "\n",
    "assert test_accuracy >= 0.80, 'Test accuracy at {}, should be equal to or greater than 0.80'.format(test_accuracy)\n",
    "print('Nice Job! Test Accuracy is {}'.format(test_accuracy))"
   ]
  },
  {
   "cell_type": "markdown",
   "metadata": {},
   "source": [
    "### Question 6\n",
    "\n",
    "_Choose five candidate images of traffic signs and provide them in the report. Are there any particular qualities of the image(s) that might make classification difficult? It would be helpful to plot the images in the notebook._\n",
    "\n"
   ]
  },
  {
   "cell_type": "markdown",
   "metadata": {},
   "source": [
    "**Answer:**"
   ]
  },
  {
   "cell_type": "code",
   "execution_count": 11,
   "metadata": {
    "collapsed": true
   },
   "outputs": [],
   "source": [
    "### Run the predictions here.\n",
    "### Feel free to use as many code cells as needed."
   ]
  },
  {
   "cell_type": "markdown",
   "metadata": {},
   "source": [
    "### Question 7\n",
    "\n",
    "_Is your model able to perform equally well on captured pictures or a live camera stream when compared to testing on the dataset?_\n"
   ]
  },
  {
   "cell_type": "markdown",
   "metadata": {},
   "source": [
    "**Answer:**"
   ]
  },
  {
   "cell_type": "code",
   "execution_count": 12,
   "metadata": {
    "collapsed": true
   },
   "outputs": [],
   "source": [
    "### Visualize the softmax probabilities here.\n",
    "### Feel free to use as many code cells as needed."
   ]
  },
  {
   "cell_type": "markdown",
   "metadata": {},
   "source": [
    "### Question 8\n",
    "\n",
    "*Use the model's softmax probabilities to visualize the **certainty** of its predictions, [`tf.nn.top_k`](https://www.tensorflow.org/versions/r0.11/api_docs/python/nn.html#top_k) could prove helpful here. Which predictions is the model certain of? Uncertain? If the model was incorrect in its initial prediction, does the correct prediction appear in the top k? (k should be 5 at most)*\n"
   ]
  },
  {
   "cell_type": "markdown",
   "metadata": {},
   "source": [
    "**Answer:**"
   ]
  },
  {
   "cell_type": "markdown",
   "metadata": {},
   "source": [
    "### Question 9\n",
    "_If necessary, provide documentation for how an interface was built for your model to load and classify newly-acquired images._\n"
   ]
  },
  {
   "cell_type": "markdown",
   "metadata": {},
   "source": [
    "**Answer:**"
   ]
  },
  {
   "cell_type": "markdown",
   "metadata": {},
   "source": [
    "> **Note**: Once you have completed all of the code implementations and successfully answered each question above, you may finalize your work by exporting the iPython Notebook as an HTML document. You can do this by using the menu above and navigating to  \\n\",\n",
    "    \"**File -> Download as -> HTML (.html)**. Include the finished document along with this notebook as your submission."
   ]
  },
  {
   "cell_type": "code",
   "execution_count": null,
   "metadata": {
    "collapsed": true
   },
   "outputs": [],
   "source": []
  }
 ],
 "metadata": {
  "anaconda-cloud": {},
  "kernelspec": {
   "display_name": "Python 3",
   "language": "python",
   "name": "python3"
  },
  "language_info": {
   "codemirror_mode": {
    "name": "ipython",
    "version": 3
   },
   "file_extension": ".py",
   "mimetype": "text/x-python",
   "name": "python",
   "nbconvert_exporter": "python",
   "pygments_lexer": "ipython3",
   "version": "3.5.2"
  }
 },
 "nbformat": 4,
 "nbformat_minor": 1
}
